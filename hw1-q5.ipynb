{
 "cells": [
  {
   "cell_type": "markdown",
   "metadata": {},
   "source": [
    "# Econometrics Assignment 1\n",
    "## Question 5\n",
    "\n",
    "Consider the data-set NLS-Y (US National Longitudinal Survey of Youth), containing a set of young men surveyed in 1980. In the dataset `wage.dat`, data are provided on RNS, MRT, SMSA, MED, KWW, IQ, AGE, S, EXPR, TENURE, LW. The definition of these variables is:\n",
    "\n",
    "- `RNS`: dummy for residency in the southern states\n",
    "- `MRT`: dummy for marital status\n",
    "- `SMSA`: dummy for residency in the metropolitan areas\n",
    "- `MED`: mother's education in years\n",
    "- `KWW`: score on the `knowledge of the world of work' test\n",
    "- `IQ`: IQ score\n",
    "- `AGE`: age of the individual\n",
    "- `S`: completed years of schooling\n",
    "- `EXPR`: experience in years\n",
    "- `TENURE`: tenure in years\n",
    "- `wage`: monthly wage"
   ]
  },
  {
   "cell_type": "code",
   "execution_count": 1,
   "metadata": {},
   "outputs": [],
   "source": [
    "import pandas as pd\n",
    "import numpy as np"
   ]
  },
  {
   "cell_type": "code",
   "execution_count": 2,
   "metadata": {},
   "outputs": [
    {
     "data": {
      "text/html": [
       "<div>\n",
       "<style scoped>\n",
       "    .dataframe tbody tr th:only-of-type {\n",
       "        vertical-align: middle;\n",
       "    }\n",
       "\n",
       "    .dataframe tbody tr th {\n",
       "        vertical-align: top;\n",
       "    }\n",
       "\n",
       "    .dataframe thead th {\n",
       "        text-align: right;\n",
       "    }\n",
       "</style>\n",
       "<table border=\"1\" class=\"dataframe\">\n",
       "  <thead>\n",
       "    <tr style=\"text-align: right;\">\n",
       "      <th></th>\n",
       "      <th>RNS</th>\n",
       "      <th>MRT</th>\n",
       "      <th>SMSA</th>\n",
       "      <th>MED</th>\n",
       "      <th>KWW</th>\n",
       "      <th>IQ</th>\n",
       "      <th>AGE</th>\n",
       "      <th>S</th>\n",
       "      <th>EXPR</th>\n",
       "      <th>TENURE</th>\n",
       "      <th>wage</th>\n",
       "    </tr>\n",
       "  </thead>\n",
       "  <tbody>\n",
       "    <tr>\n",
       "      <th>0</th>\n",
       "      <td>0</td>\n",
       "      <td>1</td>\n",
       "      <td>1</td>\n",
       "      <td>8</td>\n",
       "      <td>35</td>\n",
       "      <td>93</td>\n",
       "      <td>31</td>\n",
       "      <td>12</td>\n",
       "      <td>10.635</td>\n",
       "      <td>2</td>\n",
       "      <td>768.930054</td>\n",
       "    </tr>\n",
       "    <tr>\n",
       "      <th>1</th>\n",
       "      <td>0</td>\n",
       "      <td>1</td>\n",
       "      <td>1</td>\n",
       "      <td>14</td>\n",
       "      <td>41</td>\n",
       "      <td>119</td>\n",
       "      <td>37</td>\n",
       "      <td>18</td>\n",
       "      <td>11.367</td>\n",
       "      <td>16</td>\n",
       "      <td>807.545959</td>\n",
       "    </tr>\n",
       "    <tr>\n",
       "      <th>2</th>\n",
       "      <td>0</td>\n",
       "      <td>1</td>\n",
       "      <td>1</td>\n",
       "      <td>14</td>\n",
       "      <td>46</td>\n",
       "      <td>108</td>\n",
       "      <td>33</td>\n",
       "      <td>14</td>\n",
       "      <td>11.035</td>\n",
       "      <td>9</td>\n",
       "      <td>824.683777</td>\n",
       "    </tr>\n",
       "    <tr>\n",
       "      <th>3</th>\n",
       "      <td>0</td>\n",
       "      <td>1</td>\n",
       "      <td>1</td>\n",
       "      <td>12</td>\n",
       "      <td>32</td>\n",
       "      <td>96</td>\n",
       "      <td>32</td>\n",
       "      <td>12</td>\n",
       "      <td>13.089</td>\n",
       "      <td>7</td>\n",
       "      <td>650.017944</td>\n",
       "    </tr>\n",
       "    <tr>\n",
       "      <th>4</th>\n",
       "      <td>0</td>\n",
       "      <td>1</td>\n",
       "      <td>1</td>\n",
       "      <td>6</td>\n",
       "      <td>27</td>\n",
       "      <td>74</td>\n",
       "      <td>34</td>\n",
       "      <td>11</td>\n",
       "      <td>14.402</td>\n",
       "      <td>5</td>\n",
       "      <td>562.280029</td>\n",
       "    </tr>\n",
       "  </tbody>\n",
       "</table>\n",
       "</div>"
      ],
      "text/plain": [
       "   RNS  MRT  SMSA  MED  KWW   IQ  AGE   S    EXPR  TENURE        wage\n",
       "0    0    1     1    8   35   93   31  12  10.635       2  768.930054\n",
       "1    0    1     1   14   41  119   37  18  11.367      16  807.545959\n",
       "2    0    1     1   14   46  108   33  14  11.035       9  824.683777\n",
       "3    0    1     1   12   32   96   32  12  13.089       7  650.017944\n",
       "4    0    1     1    6   27   74   34  11  14.402       5  562.280029"
      ]
     },
     "execution_count": 2,
     "metadata": {},
     "output_type": "execute_result"
    }
   ],
   "source": [
    "df = pd.read_excel('wage.xls')\n",
    "df.head()"
   ]
  },
  {
   "cell_type": "code",
   "execution_count": null,
   "metadata": {},
   "outputs": [],
   "source": []
  },
  {
   "cell_type": "markdown",
   "metadata": {},
   "source": [
    "### a) \n",
    "What is the average and the median wage of the individuals in the sample? What is the average and the median log wage of the individuals in the sample?"
   ]
  },
  {
   "cell_type": "code",
   "execution_count": 3,
   "metadata": {},
   "outputs": [
    {
     "data": {
      "text/plain": [
       "count     758.000000\n",
       "mean      999.976870\n",
       "std       411.326834\n",
       "min       115.468758\n",
       "25%       714.083557\n",
       "50%       948.139008\n",
       "75%      1202.009613\n",
       "max      3077.891357\n",
       "Name: wage, dtype: float64"
      ]
     },
     "execution_count": 3,
     "metadata": {},
     "output_type": "execute_result"
    }
   ],
   "source": [
    "df['wage'].describe()"
   ]
  },
  {
   "cell_type": "markdown",
   "metadata": {},
   "source": [
    "The average wage is `999.976`, the median wage is `948.139`."
   ]
  },
  {
   "cell_type": "code",
   "execution_count": null,
   "metadata": {},
   "outputs": [],
   "source": []
  },
  {
   "cell_type": "code",
   "execution_count": 4,
   "metadata": {},
   "outputs": [
    {
     "data": {
      "text/html": [
       "<div>\n",
       "<style scoped>\n",
       "    .dataframe tbody tr th:only-of-type {\n",
       "        vertical-align: middle;\n",
       "    }\n",
       "\n",
       "    .dataframe tbody tr th {\n",
       "        vertical-align: top;\n",
       "    }\n",
       "\n",
       "    .dataframe thead th {\n",
       "        text-align: right;\n",
       "    }\n",
       "</style>\n",
       "<table border=\"1\" class=\"dataframe\">\n",
       "  <thead>\n",
       "    <tr style=\"text-align: right;\">\n",
       "      <th></th>\n",
       "      <th>RNS</th>\n",
       "      <th>MRT</th>\n",
       "      <th>SMSA</th>\n",
       "      <th>MED</th>\n",
       "      <th>KWW</th>\n",
       "      <th>IQ</th>\n",
       "      <th>AGE</th>\n",
       "      <th>S</th>\n",
       "      <th>EXPR</th>\n",
       "      <th>TENURE</th>\n",
       "      <th>wage</th>\n",
       "      <th>wage_log</th>\n",
       "    </tr>\n",
       "  </thead>\n",
       "  <tbody>\n",
       "    <tr>\n",
       "      <th>0</th>\n",
       "      <td>0</td>\n",
       "      <td>1</td>\n",
       "      <td>1</td>\n",
       "      <td>8</td>\n",
       "      <td>35</td>\n",
       "      <td>93</td>\n",
       "      <td>31</td>\n",
       "      <td>12</td>\n",
       "      <td>10.635</td>\n",
       "      <td>2</td>\n",
       "      <td>768.930054</td>\n",
       "      <td>6.645</td>\n",
       "    </tr>\n",
       "    <tr>\n",
       "      <th>1</th>\n",
       "      <td>0</td>\n",
       "      <td>1</td>\n",
       "      <td>1</td>\n",
       "      <td>14</td>\n",
       "      <td>41</td>\n",
       "      <td>119</td>\n",
       "      <td>37</td>\n",
       "      <td>18</td>\n",
       "      <td>11.367</td>\n",
       "      <td>16</td>\n",
       "      <td>807.545959</td>\n",
       "      <td>6.694</td>\n",
       "    </tr>\n",
       "    <tr>\n",
       "      <th>2</th>\n",
       "      <td>0</td>\n",
       "      <td>1</td>\n",
       "      <td>1</td>\n",
       "      <td>14</td>\n",
       "      <td>46</td>\n",
       "      <td>108</td>\n",
       "      <td>33</td>\n",
       "      <td>14</td>\n",
       "      <td>11.035</td>\n",
       "      <td>9</td>\n",
       "      <td>824.683777</td>\n",
       "      <td>6.715</td>\n",
       "    </tr>\n",
       "    <tr>\n",
       "      <th>3</th>\n",
       "      <td>0</td>\n",
       "      <td>1</td>\n",
       "      <td>1</td>\n",
       "      <td>12</td>\n",
       "      <td>32</td>\n",
       "      <td>96</td>\n",
       "      <td>32</td>\n",
       "      <td>12</td>\n",
       "      <td>13.089</td>\n",
       "      <td>7</td>\n",
       "      <td>650.017944</td>\n",
       "      <td>6.477</td>\n",
       "    </tr>\n",
       "    <tr>\n",
       "      <th>4</th>\n",
       "      <td>0</td>\n",
       "      <td>1</td>\n",
       "      <td>1</td>\n",
       "      <td>6</td>\n",
       "      <td>27</td>\n",
       "      <td>74</td>\n",
       "      <td>34</td>\n",
       "      <td>11</td>\n",
       "      <td>14.402</td>\n",
       "      <td>5</td>\n",
       "      <td>562.280029</td>\n",
       "      <td>6.332</td>\n",
       "    </tr>\n",
       "  </tbody>\n",
       "</table>\n",
       "</div>"
      ],
      "text/plain": [
       "   RNS  MRT  SMSA  MED  KWW   IQ  AGE   S    EXPR  TENURE        wage  \\\n",
       "0    0    1     1    8   35   93   31  12  10.635       2  768.930054   \n",
       "1    0    1     1   14   41  119   37  18  11.367      16  807.545959   \n",
       "2    0    1     1   14   46  108   33  14  11.035       9  824.683777   \n",
       "3    0    1     1   12   32   96   32  12  13.089       7  650.017944   \n",
       "4    0    1     1    6   27   74   34  11  14.402       5  562.280029   \n",
       "\n",
       "   wage_log  \n",
       "0     6.645  \n",
       "1     6.694  \n",
       "2     6.715  \n",
       "3     6.477  \n",
       "4     6.332  "
      ]
     },
     "execution_count": 4,
     "metadata": {},
     "output_type": "execute_result"
    }
   ],
   "source": [
    "df['wage_log'] = np.log(df['wage'])\n",
    "df.head()"
   ]
  },
  {
   "cell_type": "code",
   "execution_count": 5,
   "metadata": {},
   "outputs": [
    {
     "data": {
      "text/plain": [
       "count    758.000000\n",
       "mean       6.826555\n",
       "std        0.409927\n",
       "min        4.749000\n",
       "25%        6.571000\n",
       "50%        6.854500\n",
       "75%        7.091750\n",
       "max        8.032000\n",
       "Name: wage_log, dtype: float64"
      ]
     },
     "execution_count": 5,
     "metadata": {},
     "output_type": "execute_result"
    }
   ],
   "source": [
    "df['wage_log'].describe()"
   ]
  },
  {
   "cell_type": "markdown",
   "metadata": {},
   "source": [
    "The average wage is `6.826`, the median wage is `6.854`."
   ]
  },
  {
   "cell_type": "code",
   "execution_count": null,
   "metadata": {},
   "outputs": [],
   "source": []
  },
  {
   "cell_type": "markdown",
   "metadata": {},
   "source": [
    "#### Note that \"average of wage log\" is different from \"log of wage average\"\n",
    "In short, \"median of wage log\" is the same as \"log of wave median\" because the position of median does not change after log and that it is only one value.\n",
    "\n",
    "However, for average it is different because log *bends each value disproportionately based on each value*, meaning that a larger value have a larger difference with its log value than a smaller value and its log value. Given that every value is decreased differently after computing with log, we know that its average will change, therefore, \"average of wage log\" will be different from \"log of wage average\"."
   ]
  },
  {
   "cell_type": "code",
   "execution_count": 6,
   "metadata": {},
   "outputs": [
    {
     "data": {
      "text/plain": [
       "6.907732148272591"
      ]
     },
     "execution_count": 6,
     "metadata": {},
     "output_type": "execute_result"
    }
   ],
   "source": [
    "np.log(df['wage'].describe()['mean'])"
   ]
  },
  {
   "cell_type": "code",
   "execution_count": 7,
   "metadata": {},
   "outputs": [
    {
     "data": {
      "text/plain": [
       "6.854501123961609"
      ]
     },
     "execution_count": 7,
     "metadata": {},
     "output_type": "execute_result"
    }
   ],
   "source": [
    "np.log(df['wage'].describe()['50%'])"
   ]
  },
  {
   "cell_type": "markdown",
   "metadata": {},
   "source": [
    "The \"log of wage average\" is `6.907` while the \"average of wage log\" is `6.826`.\n",
    "\n",
    "The \"log of wage medium\" and \"medium of wage log\" are both `6.854`."
   ]
  },
  {
   "cell_type": "code",
   "execution_count": null,
   "metadata": {},
   "outputs": [],
   "source": []
  },
  {
   "cell_type": "markdown",
   "metadata": {},
   "source": [
    "### b) \n",
    "What is the median wage of the individuals for the subsample of individuals who live in metropolitan areas? please use two different approach to calculate this result."
   ]
  },
  {
   "cell_type": "code",
   "execution_count": 8,
   "metadata": {},
   "outputs": [
    {
     "data": {
      "text/html": [
       "<div>\n",
       "<style scoped>\n",
       "    .dataframe tbody tr th:only-of-type {\n",
       "        vertical-align: middle;\n",
       "    }\n",
       "\n",
       "    .dataframe tbody tr th {\n",
       "        vertical-align: top;\n",
       "    }\n",
       "\n",
       "    .dataframe thead th {\n",
       "        text-align: right;\n",
       "    }\n",
       "</style>\n",
       "<table border=\"1\" class=\"dataframe\">\n",
       "  <thead>\n",
       "    <tr style=\"text-align: right;\">\n",
       "      <th></th>\n",
       "      <th>RNS</th>\n",
       "      <th>MRT</th>\n",
       "      <th>SMSA</th>\n",
       "      <th>MED</th>\n",
       "      <th>KWW</th>\n",
       "      <th>IQ</th>\n",
       "      <th>AGE</th>\n",
       "      <th>S</th>\n",
       "      <th>EXPR</th>\n",
       "      <th>TENURE</th>\n",
       "      <th>wage</th>\n",
       "      <th>wage_log</th>\n",
       "    </tr>\n",
       "  </thead>\n",
       "  <tbody>\n",
       "    <tr>\n",
       "      <th>count</th>\n",
       "      <td>540.000000</td>\n",
       "      <td>540.000000</td>\n",
       "      <td>540.0</td>\n",
       "      <td>540.000000</td>\n",
       "      <td>540.000000</td>\n",
       "      <td>540.000000</td>\n",
       "      <td>540.000000</td>\n",
       "      <td>540.000000</td>\n",
       "      <td>540.000000</td>\n",
       "      <td>540.000000</td>\n",
       "      <td>540.000000</td>\n",
       "      <td>540.000000</td>\n",
       "    </tr>\n",
       "    <tr>\n",
       "      <th>mean</th>\n",
       "      <td>0.261111</td>\n",
       "      <td>0.890741</td>\n",
       "      <td>1.0</td>\n",
       "      <td>10.964815</td>\n",
       "      <td>37.109259</td>\n",
       "      <td>104.303704</td>\n",
       "      <td>32.992593</td>\n",
       "      <td>13.835185</td>\n",
       "      <td>11.237693</td>\n",
       "      <td>7.303704</td>\n",
       "      <td>1058.846712</td>\n",
       "      <td>6.889537</td>\n",
       "    </tr>\n",
       "    <tr>\n",
       "      <th>std</th>\n",
       "      <td>0.439648</td>\n",
       "      <td>0.312253</td>\n",
       "      <td>0.0</td>\n",
       "      <td>2.662992</td>\n",
       "      <td>7.204224</td>\n",
       "      <td>13.480846</td>\n",
       "      <td>3.051801</td>\n",
       "      <td>2.208237</td>\n",
       "      <td>4.195172</td>\n",
       "      <td>5.119027</td>\n",
       "      <td>415.443952</td>\n",
       "      <td>0.398763</td>\n",
       "    </tr>\n",
       "    <tr>\n",
       "      <th>min</th>\n",
       "      <td>0.000000</td>\n",
       "      <td>0.000000</td>\n",
       "      <td>1.0</td>\n",
       "      <td>0.000000</td>\n",
       "      <td>13.000000</td>\n",
       "      <td>54.000000</td>\n",
       "      <td>28.000000</td>\n",
       "      <td>9.000000</td>\n",
       "      <td>0.769000</td>\n",
       "      <td>0.000000</td>\n",
       "      <td>115.468758</td>\n",
       "      <td>4.749000</td>\n",
       "    </tr>\n",
       "    <tr>\n",
       "      <th>25%</th>\n",
       "      <td>0.000000</td>\n",
       "      <td>1.000000</td>\n",
       "      <td>1.0</td>\n",
       "      <td>9.000000</td>\n",
       "      <td>33.000000</td>\n",
       "      <td>96.000000</td>\n",
       "      <td>30.000000</td>\n",
       "      <td>12.000000</td>\n",
       "      <td>8.353500</td>\n",
       "      <td>3.000000</td>\n",
       "      <td>788.198624</td>\n",
       "      <td>6.669750</td>\n",
       "    </tr>\n",
       "    <tr>\n",
       "      <th>50%</th>\n",
       "      <td>0.000000</td>\n",
       "      <td>1.000000</td>\n",
       "      <td>1.0</td>\n",
       "      <td>12.000000</td>\n",
       "      <td>38.000000</td>\n",
       "      <td>105.000000</td>\n",
       "      <td>33.000000</td>\n",
       "      <td>13.000000</td>\n",
       "      <td>10.757000</td>\n",
       "      <td>7.000000</td>\n",
       "      <td>1000.244751</td>\n",
       "      <td>6.908000</td>\n",
       "    </tr>\n",
       "    <tr>\n",
       "      <th>75%</th>\n",
       "      <td>1.000000</td>\n",
       "      <td>1.000000</td>\n",
       "      <td>1.0</td>\n",
       "      <td>12.000000</td>\n",
       "      <td>42.000000</td>\n",
       "      <td>114.000000</td>\n",
       "      <td>36.000000</td>\n",
       "      <td>16.000000</td>\n",
       "      <td>14.406250</td>\n",
       "      <td>11.000000</td>\n",
       "      <td>1250.126465</td>\n",
       "      <td>7.131000</td>\n",
       "    </tr>\n",
       "    <tr>\n",
       "      <th>max</th>\n",
       "      <td>1.000000</td>\n",
       "      <td>1.000000</td>\n",
       "      <td>1.0</td>\n",
       "      <td>18.000000</td>\n",
       "      <td>56.000000</td>\n",
       "      <td>145.000000</td>\n",
       "      <td>38.000000</td>\n",
       "      <td>18.000000</td>\n",
       "      <td>22.045000</td>\n",
       "      <td>22.000000</td>\n",
       "      <td>3077.891357</td>\n",
       "      <td>8.032000</td>\n",
       "    </tr>\n",
       "  </tbody>\n",
       "</table>\n",
       "</div>"
      ],
      "text/plain": [
       "              RNS         MRT   SMSA         MED         KWW          IQ  \\\n",
       "count  540.000000  540.000000  540.0  540.000000  540.000000  540.000000   \n",
       "mean     0.261111    0.890741    1.0   10.964815   37.109259  104.303704   \n",
       "std      0.439648    0.312253    0.0    2.662992    7.204224   13.480846   \n",
       "min      0.000000    0.000000    1.0    0.000000   13.000000   54.000000   \n",
       "25%      0.000000    1.000000    1.0    9.000000   33.000000   96.000000   \n",
       "50%      0.000000    1.000000    1.0   12.000000   38.000000  105.000000   \n",
       "75%      1.000000    1.000000    1.0   12.000000   42.000000  114.000000   \n",
       "max      1.000000    1.000000    1.0   18.000000   56.000000  145.000000   \n",
       "\n",
       "              AGE           S        EXPR      TENURE         wage    wage_log  \n",
       "count  540.000000  540.000000  540.000000  540.000000   540.000000  540.000000  \n",
       "mean    32.992593   13.835185   11.237693    7.303704  1058.846712    6.889537  \n",
       "std      3.051801    2.208237    4.195172    5.119027   415.443952    0.398763  \n",
       "min     28.000000    9.000000    0.769000    0.000000   115.468758    4.749000  \n",
       "25%     30.000000   12.000000    8.353500    3.000000   788.198624    6.669750  \n",
       "50%     33.000000   13.000000   10.757000    7.000000  1000.244751    6.908000  \n",
       "75%     36.000000   16.000000   14.406250   11.000000  1250.126465    7.131000  \n",
       "max     38.000000   18.000000   22.045000   22.000000  3077.891357    8.032000  "
      ]
     },
     "execution_count": 8,
     "metadata": {},
     "output_type": "execute_result"
    }
   ],
   "source": [
    "df[df['SMSA']==1].describe()"
   ]
  },
  {
   "cell_type": "markdown",
   "metadata": {},
   "source": [
    "The median wage of individuals living in metropolitan areas is `1000.24`"
   ]
  },
  {
   "cell_type": "code",
   "execution_count": null,
   "metadata": {},
   "outputs": [],
   "source": []
  },
  {
   "cell_type": "markdown",
   "metadata": {},
   "source": [
    "### c) \n",
    "What is the covariance of IQ and S?"
   ]
  },
  {
   "cell_type": "code",
   "execution_count": 9,
   "metadata": {},
   "outputs": [
    {
     "data": {
      "text/plain": [
       "array([[185.46806586,  15.5060456 ],\n",
       "       [ 15.5060456 ,   4.90486332]])"
      ]
     },
     "execution_count": 9,
     "metadata": {},
     "output_type": "execute_result"
    }
   ],
   "source": [
    "np.cov(df['IQ'], df['S'])"
   ]
  },
  {
   "cell_type": "code",
   "execution_count": null,
   "metadata": {},
   "outputs": [],
   "source": []
  },
  {
   "cell_type": "markdown",
   "metadata": {},
   "source": [
    "Answer this question again for the subsample of individuals whose net income is lower than the 90th percentile value of net income."
   ]
  },
  {
   "cell_type": "code",
   "execution_count": 10,
   "metadata": {},
   "outputs": [
    {
     "data": {
      "text/plain": [
       "1499.66943359375"
      ]
     },
     "execution_count": 10,
     "metadata": {},
     "output_type": "execute_result"
    }
   ],
   "source": [
    "np.percentile(df['wage'], 90)"
   ]
  },
  {
   "cell_type": "code",
   "execution_count": 11,
   "metadata": {},
   "outputs": [
    {
     "data": {
      "text/plain": [
       "array([[183.19460966,  13.98931822],\n",
       "       [ 13.98931822,   4.60740165]])"
      ]
     },
     "execution_count": 11,
     "metadata": {},
     "output_type": "execute_result"
    }
   ],
   "source": [
    "df2 = df[df['wage']<np.percentile(df['wage'], 90)]\n",
    "np.cov(df2['IQ'], df2['S'])"
   ]
  },
  {
   "cell_type": "code",
   "execution_count": null,
   "metadata": {},
   "outputs": [],
   "source": []
  }
 ],
 "metadata": {
  "kernelspec": {
   "display_name": "Python 3.8.1 64-bit",
   "language": "python",
   "name": "python38164bit0209044da7c742dab8314e0953beb93b"
  },
  "language_info": {
   "codemirror_mode": {
    "name": "ipython",
    "version": 3
   },
   "file_extension": ".py",
   "mimetype": "text/x-python",
   "name": "python",
   "nbconvert_exporter": "python",
   "pygments_lexer": "ipython3",
   "version": "3.8.1"
  }
 },
 "nbformat": 4,
 "nbformat_minor": 4
}

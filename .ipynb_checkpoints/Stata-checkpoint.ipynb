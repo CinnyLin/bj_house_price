{
 "cells": [
  {
   "cell_type": "markdown",
   "metadata": {},
   "source": [
    "# Stata\n",
    "\n",
    "Learning Stata for Econometrics class\n",
    "\n",
    "Useful Resources for Stata/Python conversion:\n",
    "- [Stata to Python equivalent](http://www.danielmsullivan.com/pages/tutorial_stata_to_python.html)\n",
    "- [Stata, R, pandas cheatsheet](https://cheatsheets.quantecon.org/stats-cheatsheet.html)\n"
   ]
  },
  {
   "cell_type": "code",
   "execution_count": null,
   "metadata": {},
   "outputs": [],
   "source": []
  },
  {
   "cell_type": "code",
   "execution_count": 1,
   "metadata": {},
   "outputs": [],
   "source": [
    "import pandas as pd"
   ]
  },
  {
   "cell_type": "code",
   "execution_count": 2,
   "metadata": {},
   "outputs": [
    {
     "data": {
      "text/html": [
       "<div>\n",
       "<style scoped>\n",
       "    .dataframe tbody tr th:only-of-type {\n",
       "        vertical-align: middle;\n",
       "    }\n",
       "\n",
       "    .dataframe tbody tr th {\n",
       "        vertical-align: top;\n",
       "    }\n",
       "\n",
       "    .dataframe thead th {\n",
       "        text-align: right;\n",
       "    }\n",
       "</style>\n",
       "<table border=\"1\" class=\"dataframe\">\n",
       "  <thead>\n",
       "    <tr style=\"text-align: right;\">\n",
       "      <th></th>\n",
       "      <th>RNS</th>\n",
       "      <th>MRT</th>\n",
       "      <th>SMSA</th>\n",
       "      <th>MED</th>\n",
       "      <th>KWW</th>\n",
       "      <th>IQ</th>\n",
       "      <th>AGE</th>\n",
       "      <th>S</th>\n",
       "      <th>EXPR</th>\n",
       "      <th>TENURE</th>\n",
       "      <th>wage</th>\n",
       "    </tr>\n",
       "  </thead>\n",
       "  <tbody>\n",
       "    <tr>\n",
       "      <th>0</th>\n",
       "      <td>0</td>\n",
       "      <td>1</td>\n",
       "      <td>1</td>\n",
       "      <td>8</td>\n",
       "      <td>35</td>\n",
       "      <td>93</td>\n",
       "      <td>31</td>\n",
       "      <td>12</td>\n",
       "      <td>10.635</td>\n",
       "      <td>2</td>\n",
       "      <td>768.930054</td>\n",
       "    </tr>\n",
       "    <tr>\n",
       "      <th>1</th>\n",
       "      <td>0</td>\n",
       "      <td>1</td>\n",
       "      <td>1</td>\n",
       "      <td>14</td>\n",
       "      <td>41</td>\n",
       "      <td>119</td>\n",
       "      <td>37</td>\n",
       "      <td>18</td>\n",
       "      <td>11.367</td>\n",
       "      <td>16</td>\n",
       "      <td>807.545959</td>\n",
       "    </tr>\n",
       "    <tr>\n",
       "      <th>2</th>\n",
       "      <td>0</td>\n",
       "      <td>1</td>\n",
       "      <td>1</td>\n",
       "      <td>14</td>\n",
       "      <td>46</td>\n",
       "      <td>108</td>\n",
       "      <td>33</td>\n",
       "      <td>14</td>\n",
       "      <td>11.035</td>\n",
       "      <td>9</td>\n",
       "      <td>824.683777</td>\n",
       "    </tr>\n",
       "    <tr>\n",
       "      <th>3</th>\n",
       "      <td>0</td>\n",
       "      <td>1</td>\n",
       "      <td>1</td>\n",
       "      <td>12</td>\n",
       "      <td>32</td>\n",
       "      <td>96</td>\n",
       "      <td>32</td>\n",
       "      <td>12</td>\n",
       "      <td>13.089</td>\n",
       "      <td>7</td>\n",
       "      <td>650.017944</td>\n",
       "    </tr>\n",
       "    <tr>\n",
       "      <th>4</th>\n",
       "      <td>0</td>\n",
       "      <td>1</td>\n",
       "      <td>1</td>\n",
       "      <td>6</td>\n",
       "      <td>27</td>\n",
       "      <td>74</td>\n",
       "      <td>34</td>\n",
       "      <td>11</td>\n",
       "      <td>14.402</td>\n",
       "      <td>5</td>\n",
       "      <td>562.280029</td>\n",
       "    </tr>\n",
       "  </tbody>\n",
       "</table>\n",
       "</div>"
      ],
      "text/plain": [
       "   RNS  MRT  SMSA  MED  KWW   IQ  AGE   S    EXPR  TENURE        wage\n",
       "0    0    1     1    8   35   93   31  12  10.635       2  768.930054\n",
       "1    0    1     1   14   41  119   37  18  11.367      16  807.545959\n",
       "2    0    1     1   14   46  108   33  14  11.035       9  824.683777\n",
       "3    0    1     1   12   32   96   32  12  13.089       7  650.017944\n",
       "4    0    1     1    6   27   74   34  11  14.402       5  562.280029"
      ]
     },
     "execution_count": 2,
     "metadata": {},
     "output_type": "execute_result"
    }
   ],
   "source": [
    "df = pd.read_excel('wage.xls')\n",
    "df.head()"
   ]
  },
  {
   "cell_type": "code",
   "execution_count": null,
   "metadata": {},
   "outputs": [],
   "source": []
  },
  {
   "cell_type": "markdown",
   "metadata": {},
   "source": [
    "Python: `df.describe` == `df.info`"
   ]
  },
  {
   "cell_type": "code",
   "execution_count": 3,
   "metadata": {},
   "outputs": [
    {
     "data": {
      "text/plain": [
       "<bound method NDFrame.describe of      RNS  MRT  SMSA  MED  KWW   IQ  AGE   S    EXPR  TENURE         wage\n",
       "0      0    1     1    8   35   93   31  12  10.635       2   768.930054\n",
       "1      0    1     1   14   41  119   37  18  11.367      16   807.545959\n",
       "2      0    1     1   14   46  108   33  14  11.035       9   824.683777\n",
       "3      0    1     1   12   32   96   32  12  13.089       7   650.017944\n",
       "4      0    1     1    6   27   74   34  11  14.402       5   562.280029\n",
       "..   ...  ...   ...  ...  ...  ...  ...  ..     ...     ...          ...\n",
       "753    1    1     1    8   45  113   35  16   8.205      10  1442.308105\n",
       "754    1    1     0    7   39   93   35  12  10.737       3   644.838562\n",
       "755    1    1     0   12   38  101   33  12  10.589       5   643.550171\n",
       "756    1    1     0    7   33  100   31  12   9.004       3   477.230682\n",
       "757    1    1     1    8   32  102   31  13   9.834       3  1202.310059\n",
       "\n",
       "[758 rows x 11 columns]>"
      ]
     },
     "execution_count": 3,
     "metadata": {},
     "output_type": "execute_result"
    }
   ],
   "source": [
    "df.describe"
   ]
  },
  {
   "cell_type": "code",
   "execution_count": null,
   "metadata": {},
   "outputs": [],
   "source": []
  },
  {
   "cell_type": "markdown",
   "metadata": {},
   "source": [
    "Python: `df.info()` ~= `df.dtypes`\n",
    "\n",
    "Stata: `describe`"
   ]
  },
  {
   "cell_type": "code",
   "execution_count": 7,
   "metadata": {},
   "outputs": [
    {
     "data": {
      "text/plain": [
       "<bound method DataFrame.info of      RNS  MRT  SMSA  MED  KWW   IQ  AGE   S    EXPR  TENURE         wage\n",
       "0      0    1     1    8   35   93   31  12  10.635       2   768.930054\n",
       "1      0    1     1   14   41  119   37  18  11.367      16   807.545959\n",
       "2      0    1     1   14   46  108   33  14  11.035       9   824.683777\n",
       "3      0    1     1   12   32   96   32  12  13.089       7   650.017944\n",
       "4      0    1     1    6   27   74   34  11  14.402       5   562.280029\n",
       "..   ...  ...   ...  ...  ...  ...  ...  ..     ...     ...          ...\n",
       "753    1    1     1    8   45  113   35  16   8.205      10  1442.308105\n",
       "754    1    1     0    7   39   93   35  12  10.737       3   644.838562\n",
       "755    1    1     0   12   38  101   33  12  10.589       5   643.550171\n",
       "756    1    1     0    7   33  100   31  12   9.004       3   477.230682\n",
       "757    1    1     1    8   32  102   31  13   9.834       3  1202.310059\n",
       "\n",
       "[758 rows x 11 columns]>"
      ]
     },
     "execution_count": 7,
     "metadata": {},
     "output_type": "execute_result"
    }
   ],
   "source": [
    "df.info"
   ]
  },
  {
   "cell_type": "code",
   "execution_count": null,
   "metadata": {},
   "outputs": [],
   "source": []
  },
  {
   "cell_type": "markdown",
   "metadata": {},
   "source": [
    "Python: `df[<var>].dtype`\n",
    "    \n",
    "Stata: `describe <var>`"
   ]
  },
  {
   "cell_type": "code",
   "execution_count": 8,
   "metadata": {},
   "outputs": [
    {
     "data": {
      "text/plain": [
       "dtype('int64')"
      ]
     },
     "execution_count": 8,
     "metadata": {},
     "output_type": "execute_result"
    }
   ],
   "source": [
    "df['AGE'].dtypes"
   ]
  },
  {
   "cell_type": "code",
   "execution_count": null,
   "metadata": {},
   "outputs": [],
   "source": []
  },
  {
   "cell_type": "markdown",
   "metadata": {},
   "source": [
    "Python: `df.shape[0]` == `len(df)` \n",
    "\n",
    "Stata: `count`"
   ]
  },
  {
   "cell_type": "code",
   "execution_count": 10,
   "metadata": {},
   "outputs": [
    {
     "data": {
      "text/plain": [
       "(758, 11)"
      ]
     },
     "execution_count": 10,
     "metadata": {},
     "output_type": "execute_result"
    }
   ],
   "source": [
    "df.shape"
   ]
  },
  {
   "cell_type": "code",
   "execution_count": null,
   "metadata": {},
   "outputs": [],
   "source": []
  },
  {
   "cell_type": "markdown",
   "metadata": {},
   "source": [
    "Python:\t`df['<var>'].describe()`\n",
    "\n",
    "Stata: `summ <var>`"
   ]
  },
  {
   "cell_type": "code",
   "execution_count": 13,
   "metadata": {},
   "outputs": [
    {
     "data": {
      "text/plain": [
       "count    758.000000\n",
       "mean      33.011873\n",
       "std        3.085504\n",
       "min       28.000000\n",
       "25%       30.000000\n",
       "50%       33.000000\n",
       "75%       36.000000\n",
       "max       38.000000\n",
       "Name: AGE, dtype: float64"
      ]
     },
     "execution_count": 13,
     "metadata": {},
     "output_type": "execute_result"
    }
   ],
   "source": [
    "df['AGE'].describe()"
   ]
  },
  {
   "cell_type": "code",
   "execution_count": null,
   "metadata": {},
   "outputs": [],
   "source": []
  },
  {
   "cell_type": "code",
   "execution_count": null,
   "metadata": {},
   "outputs": [],
   "source": []
  },
  {
   "cell_type": "code",
   "execution_count": null,
   "metadata": {},
   "outputs": [],
   "source": []
  },
  {
   "cell_type": "code",
   "execution_count": null,
   "metadata": {},
   "outputs": [],
   "source": []
  }
 ],
 "metadata": {
  "kernelspec": {
   "display_name": "Python 3.8.1 64-bit",
   "language": "python",
   "name": "python38164bit0209044da7c742dab8314e0953beb93b"
  },
  "language_info": {
   "codemirror_mode": {
    "name": "ipython",
    "version": 3
   },
   "file_extension": ".py",
   "mimetype": "text/x-python",
   "name": "python",
   "nbconvert_exporter": "python",
   "pygments_lexer": "ipython3",
   "version": "3.8.1"
  }
 },
 "nbformat": 4,
 "nbformat_minor": 4
}
